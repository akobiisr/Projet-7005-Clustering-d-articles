{
 "cells": [
  {
   "cell_type": "code",
   "execution_count": 1,
   "metadata": {
    "scrolled": true
   },
   "outputs": [],
   "source": [
    "import pickle\n",
    "import gensim\n",
    "import nltk"
   ]
  },
  {
   "cell_type": "code",
   "execution_count": 2,
   "metadata": {},
   "outputs": [],
   "source": [
    "word_list = []\n",
    "word_freq = []\n",
    "for i in range(50000):#598927+1\n",
    "    with open('processed/article_'+str(i)+'.pickle', 'rb') as f:\n",
    "        this_word,this_freq=pickle.load(f)\n",
    "        word_list.append(this_word)\n",
    "        word_freq.append(this_freq)"
   ]
  },
  {
   "cell_type": "code",
   "execution_count": 3,
   "metadata": {
    "scrolled": true
   },
   "outputs": [],
   "source": [
    "model = gensim.models.KeyedVectors.load_word2vec_format('cc.fr.300.vec.bin', binary=True)"
   ]
  },
  {
   "cell_type": "code",
   "execution_count": 4,
   "metadata": {},
   "outputs": [],
   "source": [
    "word_vectors = []\n",
    "bad_words = []\n",
    "good_words = []\n",
    "new_freq = []\n",
    "for i in range(len(word_list)):\n",
    "    bad_words.append([])\n",
    "    good_words.append([])\n",
    "    new_freq.append([])\n",
    "    word_vectors.append([])\n",
    "    for j,word in enumerate(word_list[i]):\n",
    "        try:\n",
    "            word_vectors[i].append(model[word])\n",
    "            good_words[i].append(word)\n",
    "            new_freq[i].append(word_freq[i][j])\n",
    "        except:\n",
    "            bad_words[i].append(word)\n"
   ]
  },
  {
   "cell_type": "code",
   "execution_count": 5,
   "metadata": {},
   "outputs": [],
   "source": [
    "for i in range(len(good_words)):\n",
    "    with open('vectors/article_'+str(i+0)+'.pickle', 'wb') as f:\n",
    "        pickle.dump([good_words[i],new_freq[i],word_vectors[i],bad_words[i]], f)"
   ]
  },
  {
   "cell_type": "code",
   "execution_count": 42,
   "metadata": {},
   "outputs": [
    {
     "name": "stdout",
     "output_type": "stream",
     "text": [
      "196\n"
     ]
    }
   ],
   "source": []
  },
  {
   "cell_type": "code",
   "execution_count": null,
   "metadata": {},
   "outputs": [],
   "source": []
  }
 ],
 "metadata": {
  "kernelspec": {
   "display_name": "Python 3",
   "language": "python",
   "name": "python3"
  },
  "language_info": {
   "codemirror_mode": {
    "name": "ipython",
    "version": 3
   },
   "file_extension": ".py",
   "mimetype": "text/x-python",
   "name": "python",
   "nbconvert_exporter": "python",
   "pygments_lexer": "ipython3",
   "version": "3.7.4"
  }
 },
 "nbformat": 4,
 "nbformat_minor": 2
}
