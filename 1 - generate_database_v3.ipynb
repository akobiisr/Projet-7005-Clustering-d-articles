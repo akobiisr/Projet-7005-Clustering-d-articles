{
 "cells": [
  {
   "cell_type": "code",
   "execution_count": 3,
   "metadata": {
    "scrolled": true
   },
   "outputs": [
    {
     "name": "stderr",
     "output_type": "stream",
     "text": [
      "[nltk_data] Downloading package stopwords to\n",
      "[nltk_data]     C:\\Users\\charl\\AppData\\Roaming\\nltk_data...\n",
      "[nltk_data]   Package stopwords is already up-to-date!\n",
      "[nltk_data] Downloading package punkt to\n",
      "[nltk_data]     C:\\Users\\charl\\AppData\\Roaming\\nltk_data...\n",
      "[nltk_data]   Package punkt is already up-to-date!\n",
      "[nltk_data] Downloading package wordnet to\n",
      "[nltk_data]     C:\\Users\\charl\\AppData\\Roaming\\nltk_data...\n",
      "[nltk_data]   Package wordnet is already up-to-date!\n"
     ]
    }
   ],
   "source": [
    "import json\n",
    "import re\n",
    "import os\n",
    "from nltk.corpus import stopwords\n",
    "import nltk\n",
    "import spacy\n",
    "from heapq import nlargest\n",
    "nltk.download('stopwords')\n",
    "nltk.download('punkt')\n",
    "nltk.download('wordnet')\n",
    "import pickle"
   ]
  },
  {
   "cell_type": "code",
   "execution_count": 4,
   "metadata": {},
   "outputs": [],
   "source": [
    "file_root = \"./articles\"\n",
    "filenames = os.listdir(file_root)"
   ]
  },
  {
   "cell_type": "code",
   "execution_count": 6,
   "metadata": {},
   "outputs": [],
   "source": [
    "regexp = r\"([a-z0-9]*.[json])\"\n",
    "data = []\n",
    "data_clean = []\n",
    "tags = []\n",
    "filenames_echan = filenames\n",
    "#filenames_echan = './articles/0a0a9b07b057c4f5f9364228343a7427.json'\n",
    "\n",
    "for filename in filenames_echan[:]:\n",
    "    if filename[-10:]!='-info.json':\n",
    "        with open(file_root+'/'+filename, 'r', encoding='utf-8') as f:\n",
    "            article_fields = json.load(f)\n",
    "            text = ''\n",
    "            text_tag = ''\n",
    "            text_clean = ''\n",
    "            for key, value in article_fields.items():\n",
    "                if key == 'title':\n",
    "                    text = text +(' '+value['fr'])*3 #On met un poids de 3 au titre\n",
    "                    text_clean = text_clean + (' '+value['fr']) + '\\n\\n'\n",
    "                if key == 'chapters':\n",
    "                    first = 1\n",
    "                    for field in article_fields['chapters']:\n",
    "                        for key, value in field.items():\n",
    "                            if key == 'text':\n",
    "                                if first == 1:\n",
    "                                    first = 0\n",
    "                                    text = text +(' '+ field['text']['fr'])*2 #On met un poids de 2 au premier paragraphe\n",
    "                                    text_clean = text_clean +(' '+ field['text']['fr']) + '\\n\\n'\n",
    "                                else:\n",
    "                                    text = text +' '+ field['text']['fr']\n",
    "                                    text_clean = text_clean +(' '+ field['text']['fr']) + '\\n\\n'\n",
    "                if key == 'channel':\n",
    "                    if article_fields['channel'] != {}:\n",
    "                        text_tag = text_tag +article_fields['channel']['fr']\n",
    "            data.append(text)\n",
    "            tags.append(text_tag)\n",
    "            data_clean.append(text_clean)\n",
    "            if len(data) >= 50000: #On utilise seulement les 25000 premiers articles\n",
    "                break\n"
   ]
  },
  {
   "cell_type": "code",
   "execution_count": null,
   "metadata": {},
   "outputs": [],
   "source": []
  },
  {
   "cell_type": "code",
   "execution_count": 7,
   "metadata": {},
   "outputs": [],
   "source": [
    "#Nettoyage du text (elever !, ? \\n ...)\n",
    "supprimer = re.compile(\"(\\.)|(\\;)|(\\:)|(\\!)|(\\?)|(\\,)|(\\\")|(\\()|(\\))|(\\[)|(\\])|(\\d+)|(\\n)|(\\$)|(href)|(https)|(\\%)|(—)\")\n",
    "remplacer_par_espace = re.compile(\"(<br\\s*/><br\\s*/>)|(\\-)|(\\/)|(')|(<[a-z]>)|(</[a-z]>)|»|«|(’)|(<p>)|(</p>)|(<i>)|(</em>)\"\\\n",
    "                       \"|(<em>)|(</i>)|(<b>)|(</b>)|(<br>)|(</br>)|(<strong>)|(</strong>)|(\\*)|(&nbsp)|(&)|(<)|(>)|(=)\")\n",
    "\n",
    "def nettoyage(data):\n",
    "    data = [supprimer.sub(\"\", line.lower()) for line in data]\n",
    "    data = [remplacer_par_espace.sub(\" \", line) for line in data]\n",
    "    return data\n",
    "\n",
    "data_net = nettoyage(data)\n"
   ]
  },
  {
   "cell_type": "code",
   "execution_count": 8,
   "metadata": {
    "scrolled": true
   },
   "outputs": [],
   "source": [
    "\n",
    "def delete_words(documents):\n",
    "    word_list = stopwords.words('french')\n",
    "    word_list.extend(['cette','a','donc','car','ni','or','lors','tel','telle','e','h','no','st', 'aussi','très',\\\n",
    "                       'alors','toutefois','finalement','tant','outre','puis','ça','si','enfin','cependant','également'\\\n",
    "                     'mais','contrepartie','néanmoins', 'pourtant', 'or', 'malgré', 'que','puisque','puisqu','notamment'\\\n",
    "                     'tellement','bien'])\n",
    "    output = []\n",
    "    for line in documents:\n",
    "        output.append(\n",
    "            ' '.join([word for word in line.split() \n",
    "                      if word not in word_list]))\n",
    "    return output\n",
    "\n",
    "data_stw = delete_words(data_net)"
   ]
  },
  {
   "cell_type": "code",
   "execution_count": 9,
   "metadata": {},
   "outputs": [],
   "source": [
    "def do_count(articles):\n",
    "    '''Compter les occurences de chaque mot'''\n",
    "    final_count=[]\n",
    "    for article in articles:\n",
    "        token_words = nltk.word_tokenize(article)\n",
    "        final_count.append(nltk.FreqDist(token_words))\n",
    "    return final_count\n",
    "\n",
    "data_freq_dict = do_count(data_stw)"
   ]
  },
  {
   "cell_type": "code",
   "execution_count": 10,
   "metadata": {},
   "outputs": [],
   "source": [
    "def dict_to_lists(articles):\n",
    "    word_list = []\n",
    "    word_freq = []\n",
    "    for article in articles:\n",
    "        word_list.append(list(article.keys()))\n",
    "        word_freq.append(list(article.values()))\n",
    "    return word_list, word_freq\n",
    "\n",
    "word_list, word_freq = dict_to_lists(data_freq_dict)"
   ]
  },
  {
   "cell_type": "code",
   "execution_count": 11,
   "metadata": {},
   "outputs": [],
   "source": [
    "for i in range(len(data)):\n",
    "    with open('processed/article_'+str(i)+'.pickle', 'wb') as f:\n",
    "        pickle.dump([word_list[i],word_freq[i]], f)"
   ]
  },
  {
   "cell_type": "code",
   "execution_count": 12,
   "metadata": {},
   "outputs": [],
   "source": [
    "for i in range(len(data)):\n",
    "    with open('printable/article_'+str(i)+'.pickle', 'wb') as f:\n",
    "        pickle.dump([data_clean[i],tags[i]], f)"
   ]
  },
  {
   "cell_type": "code",
   "execution_count": null,
   "metadata": {},
   "outputs": [],
   "source": []
  },
  {
   "cell_type": "code",
   "execution_count": null,
   "metadata": {},
   "outputs": [],
   "source": []
  },
  {
   "cell_type": "code",
   "execution_count": null,
   "metadata": {},
   "outputs": [],
   "source": []
  }
 ],
 "metadata": {
  "kernelspec": {
   "display_name": "Python 3",
   "language": "python",
   "name": "python3"
  },
  "language_info": {
   "codemirror_mode": {
    "name": "ipython",
    "version": 3
   },
   "file_extension": ".py",
   "mimetype": "text/x-python",
   "name": "python",
   "nbconvert_exporter": "python",
   "pygments_lexer": "ipython3",
   "version": "3.7.4"
  }
 },
 "nbformat": 4,
 "nbformat_minor": 2
}
