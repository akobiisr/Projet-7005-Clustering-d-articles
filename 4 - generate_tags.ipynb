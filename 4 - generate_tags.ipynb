{
 "cells": [
  {
   "cell_type": "code",
   "execution_count": 1,
   "metadata": {
    "scrolled": true
   },
   "outputs": [],
   "source": [
    "import pickle\n",
    "from sklearn.manifold import MDS, TSNE\n",
    "import numpy\n",
    "from sklearn.cluster import AgglomerativeClustering\n",
    "import matplotlib.pyplot as pyplot\n",
    "import gensim\n",
    "from sklearn.cluster import KMeans"
   ]
  },
  {
   "cell_type": "code",
   "execution_count": 2,
   "metadata": {},
   "outputs": [],
   "source": [
    "main_centers = []\n",
    "assigned_clusters = []\n",
    "cluster_centers = []\n",
    "cluster_weights = []\n",
    "main_i = []\n",
    "\n",
    "for i in range(25000):#598927+1\n",
    "    with open('clusters/article_'+str(i+0)+'.pickle', 'rb') as f:\n",
    "        this_main_centers, this_assigned_clusters, this_cluster_centers, this_cluster_weights, this_main_i=pickle.load(f)\n",
    "        main_centers.append(this_main_centers)\n",
    "        assigned_clusters.append(this_assigned_clusters)\n",
    "        cluster_centers.append(this_cluster_centers)\n",
    "        cluster_weights.append(this_cluster_weights)\n",
    "        main_i.append(this_main_i)"
   ]
  },
  {
   "cell_type": "code",
   "execution_count": 3,
   "metadata": {},
   "outputs": [],
   "source": [
    "data_clean = []\n",
    "initial_tags = []\n",
    "\n",
    "for i in range(25000):\n",
    "    with open('printable/article_'+str(i+0)+'.pickle', 'rb') as f:\n",
    "        this_data_clean, this_initial_tags = pickle.load(f)\n",
    "        data_clean.append(this_data_clean)\n",
    "        initial_tags.append(this_initial_tags)"
   ]
  },
  {
   "cell_type": "code",
   "execution_count": 4,
   "metadata": {
    "scrolled": true
   },
   "outputs": [],
   "source": [
    "#put data in X\n",
    "X_list = []\n",
    "for article in main_centers:\n",
    "    for center in article:\n",
    "        X_list.append(center)\n",
    "X = numpy.zeros((len(X_list),300))\n",
    "for i in range(len(X_list)):\n",
    "    X[i] = X_list[i]"
   ]
  },
  {
   "cell_type": "code",
   "execution_count": 5,
   "metadata": {},
   "outputs": [],
   "source": [
    "#word2vec\n",
    "model = gensim.models.KeyedVectors.load_word2vec_format('cc.fr.300.vec.bin', binary=True)"
   ]
  },
  {
   "cell_type": "code",
   "execution_count": 6,
   "metadata": {},
   "outputs": [],
   "source": [
    "#kmeans\n",
    "kmean = KMeans(n_clusters = 400)    \n",
    "kmean.fit(X)\n",
    "y = kmean.predict(X)"
   ]
  },
  {
   "cell_type": "code",
   "execution_count": 7,
   "metadata": {},
   "outputs": [],
   "source": [
    "#determine the closest words\n",
    "average_vectors = kmean.cluster_centers_\n",
    "closest_words = []\n",
    "for i in range(len(average_vectors)):\n",
    "    class_vectors = X[y==i]\n",
    "    word_string = ''\n",
    "    for word_tuple in model.most_similar(positive=[average_vectors[i]], topn=20):\n",
    "        word_string=word_string+word_tuple[0]+', '\n",
    "    closest_words.append(word_string)\n",
    "    "
   ]
  },
  {
   "cell_type": "code",
   "execution_count": 8,
   "metadata": {},
   "outputs": [],
   "source": [
    "#assign tags to articles\n",
    "i = 0\n",
    "final_tags = []\n",
    "for article in main_centers:\n",
    "    final_tags.append([])\n",
    "    for center in article:\n",
    "        final_tags[-1].append(y[i])\n",
    "        i=i+1"
   ]
  },
  {
   "cell_type": "code",
   "execution_count": 9,
   "metadata": {},
   "outputs": [],
   "source": [
    "with open('final_tags/final_tags.pickle', 'wb') as f:\n",
    "        pickle.dump([average_vectors,closest_words,final_tags,y], f)"
   ]
  },
  {
   "cell_type": "code",
   "execution_count": null,
   "metadata": {},
   "outputs": [],
   "source": []
  },
  {
   "cell_type": "code",
   "execution_count": 97,
   "metadata": {},
   "outputs": [],
   "source": []
  },
  {
   "cell_type": "code",
   "execution_count": null,
   "metadata": {},
   "outputs": [],
   "source": []
  },
  {
   "cell_type": "code",
   "execution_count": null,
   "metadata": {},
   "outputs": [],
   "source": []
  }
 ],
 "metadata": {
  "kernelspec": {
   "display_name": "Python 3",
   "language": "python",
   "name": "python3"
  },
  "language_info": {
   "codemirror_mode": {
    "name": "ipython",
    "version": 3
   },
   "file_extension": ".py",
   "mimetype": "text/x-python",
   "name": "python",
   "nbconvert_exporter": "python",
   "pygments_lexer": "ipython3",
   "version": "3.7.4"
  }
 },
 "nbformat": 4,
 "nbformat_minor": 2
}
